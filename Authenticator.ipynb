{
  "nbformat": 4,
  "nbformat_minor": 0,
  "metadata": {
    "colab": {
      "provenance": []
    },
    "kernelspec": {
      "name": "python3",
      "display_name": "Python 3"
    },
    "language_info": {
      "name": "python"
    }
  },
  "cells": [
    {
      "cell_type": "markdown",
      "source": [
        "necessary modules"
      ],
      "metadata": {
        "id": "X75yc896hkHQ"
      }
    },
    {
      "cell_type": "code",
      "execution_count": null,
      "metadata": {
        "id": "rhQQ09OGhiII"
      },
      "outputs": [],
      "source": [
        "import pandas as pd"
      ]
    },
    {
      "cell_type": "markdown",
      "source": [
        "Database in Pandas"
      ],
      "metadata": {
        "id": "VP0fT3K7oTtl"
      }
    },
    {
      "cell_type": "markdown",
      "source": [],
      "metadata": {
        "id": "_vnv9ybCrP70"
      }
    },
    {
      "cell_type": "code",
      "source": [
        "students = pd.read_csv('/content/drive/MyDrive/Projeto Discord/alunos.csv')\n",
        "teachers = pd.read_csv('/content/drive/MyDrive/Projeto Discord/professores.csv')\n"
      ],
      "metadata": {
        "id": "jWmfV1YDitUS"
      },
      "execution_count": null,
      "outputs": []
    },
    {
      "cell_type": "markdown",
      "source": [
        "function for email authentication"
      ],
      "metadata": {
        "id": "NqkkxcQCpHtH"
      }
    },
    {
      "cell_type": "code",
      "source": [
        "def authenticator(user):\n",
        "\n",
        "    if user in students['E-mail academico'].values:\n",
        "        filter_name = students.loc[students['E-mail academico'] == user, 'Nome'].values\n",
        "        name = filter_name.item()\n",
        "        return name, True\n",
        "\n",
        "    elif user in teachers['E-mail'].values:\n",
        "        filter_name = teachers.loc[teachers['E-mail'] == user, 'Nome'].values\n",
        "        name = filter_name.item()\n",
        "        return name, True\n",
        "\n",
        "    else:\n",
        "        return None, False"
      ],
      "metadata": {
        "id": "SFCa8ddqlP6h"
      },
      "execution_count": null,
      "outputs": []
    },
    {
      "cell_type": "code",
      "source": [
        "airla.guimaraes@academico.ifpb.edu.br"
      ],
      "metadata": {
        "id": "KO-Z2i-9lCYB"
      },
      "execution_count": null,
      "outputs": []
    }
  ]
}